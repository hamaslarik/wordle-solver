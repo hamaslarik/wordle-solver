{
  "cells": [
    {
      "cell_type": "code",
      "execution_count": null,
      "metadata": {
        "colab": {
          "base_uri": "https://localhost:8080/"
        },
        "id": "ivEMqNaUBEkx",
        "outputId": "6ae3991b-27b2-4d9c-f5ab-78a41b0ae95d"
      },
      "outputs": [
        {
          "output_type": "stream",
          "name": "stdout",
          "text": [
            "[nltk_data] Downloading package words to /root/nltk_data...\n",
            "[nltk_data]   Unzipping corpora/words.zip.\n"
          ]
        }
      ],
      "source": [
        "from collections import Counter\n",
        "from nltk.corpus import words\n",
        "import nltk\n",
        "nltk.download('words')\n",
        "import string"
      ]
    },
    {
      "cell_type": "code",
      "execution_count": null,
      "metadata": {
        "colab": {
          "base_uri": "https://localhost:8080/"
        },
        "id": "uTiVV-PLE8GS",
        "outputId": "8f9bcfda-d9cf-4bd9-e6ad-9039f9c08ad9"
      },
      "outputs": [
        {
          "output_type": "stream",
          "name": "stdout",
          "text": [
            "Enter the colors of the tiles returned by Wordle and press Enter:\n",
            "      B = BLACK\n",
            "      Y = YELLOW\n",
            "      G = GREEN\n",
            "    \n",
            "      Example: YBGGB (first letter is yellow, second letter is black, third letter is green and so on...)\n",
            "      \n"
          ]
        }
      ],
      "source": [
        "wordlist = [word.upper() for word in words.words() if word.isalpha() and len(word)==5]\n",
        "wordlist = list(set(wordlist))\n",
        "\n",
        "first = set([letter for letter in string.ascii_uppercase])\n",
        "n_1 = set()\n",
        "second = set([letter for letter in string.ascii_uppercase])\n",
        "n_2 = set()\n",
        "third = set([letter for letter in string.ascii_uppercase])\n",
        "n_3 = set()\n",
        "fourth = set([letter for letter in string.ascii_uppercase])\n",
        "n_4 = set()\n",
        "fifth = set([letter for letter in string.ascii_uppercase])\n",
        "n_5 = set()\n",
        "must_have = Counter()\n",
        "blacklist = set()\n",
        "\n",
        "# initial guess is 'LATER' \n",
        "\n",
        "word = 'LATER'\n",
        "game_end = False\n",
        "s0 = False\n",
        "s1 = False\n",
        "s2 = False\n",
        "s3 = False\n",
        "s4 = False\n",
        "ordinals = {0:[first, n_1, s0], 1:[second, n_2, s1], 2:[third, n_3, s2], 3:[fourth, n_4, s3], 4:[fifth, n_5, s4]}\n",
        "\n",
        "for tries in range(5):\n",
        "  if game_end == True:\n",
        "    break\n",
        "  while(True):\n",
        "    print(\"\"\"Enter the colors of the tiles returned by Wordle and press Enter:\n",
        "      B = BLACK\n",
        "      Y = YELLOW\n",
        "      G = GREEN\n",
        "    \n",
        "      Example: YBGGB (first letter is yellow, second letter is black, third letter is green and so on...)\n",
        "      \"\"\")\n",
        "    color_string = input().upper()\n",
        "    \n",
        "    if len(color_string)==5 and set(color_string).issubset(set('BYG')):\n",
        "      break\n",
        "    else:\n",
        "      print(\"Invalid input, try again\")\n",
        "\n",
        "  b_indices = []\n",
        "  y_indices = []\n",
        "  g_indices = []\n",
        "\n",
        "  for i, letter in enumerate(color_string):\n",
        "    if letter == 'Y':\n",
        "      y_indices.append(i)\n",
        "    elif letter == 'B':\n",
        "      b_indices.append(i)\n",
        "    else:\n",
        "      g_indices.append(i)\n",
        "\n",
        "  for i in b_indices:\n",
        "    blacklist.add(word[i])\n",
        "    if not s0:\n",
        "      first.discard(word[i])\n",
        "    if not s1:\n",
        "      second.discard(word[i])\n",
        "    if not s2:\n",
        "      third.discard(word[i])\n",
        "    if not s3:\n",
        "      fourth.discard(word[i])\n",
        "    if not s4:\n",
        "      fifth.discard(word[i])\n",
        "\n",
        "  must_have_copy = must_have.copy()\n",
        "\n",
        "  for i in y_indices:\n",
        "    ordinals[i][0].discard(word[i])\n",
        "    ordinals[i][1].add(word[i])\n",
        "    must_have[word[i]] += 1\n",
        "    for j in range(5):\n",
        "      if j != i and word[i] not in ordinals[j][1] and not ordinals[j][2]:\n",
        "        ordinals[j][0].add(word[i])\n",
        "\n",
        "  for i in g_indices:\n",
        "    z = ordinals[i][0]\n",
        "    z.clear()\n",
        "    must_have[word[i]] += 1\n",
        "    z.add(word[i])\n",
        "    t = ordinals[i][2]\n",
        "    t = True\n",
        "\n",
        "  must_have = must_have - must_have_copy\n",
        "\n",
        "  eligible_words = []\n",
        "\n",
        "  for word in wordlist:\n",
        "    letter_counts = Counter(word)\n",
        "    if word[0] in first and word[1] in second and word[2] in third and word[3] in fourth and word[4] in fifth and set(must_have).issubset(set(word)) and all([letter_counts[letter]==must_have[letter] if letter in blacklist else letter_counts[letter]>=must_have[letter] for letter in (letter_counts.keys() & must_have.keys())]):\n",
        "      eligible_words.append(word)\n",
        "  \n",
        "  print(len(eligible_words),' valid words found.')\n",
        "  if len(eligible_words)>0:\n",
        "    for i, word in enumerate(sorted(eligible_words)):\n",
        "      print(word, end=' ')\n",
        "      if (i+1)%20==0:\n",
        "        print('\\n')\n",
        "    print('\\n')\n",
        "  else:\n",
        "    break\n",
        "  print(\"Was your chosen word the correct word?  Type 'y' for yes or 'n' for no and press Enter\")\n",
        "  while(True):\n",
        "    reply = input()\n",
        "    if reply == 'y':\n",
        "      print('Congratulations!!!')\n",
        "      game_end = True\n",
        "      break\n",
        "    elif reply == 'n':\n",
        "      print('Type your chosen word from the above list and press Enter:')\n",
        "      while(True):\n",
        "        word = input().upper()\n",
        "        if word in eligible_words:\n",
        "          break\n",
        "        else:\n",
        "          print('This word is not present in the above list. Please type a word from the above list and press Enter:')\n",
        "      break\n",
        "    else:\n",
        "      print(\"Invalid input, type 'y' for yes or 'n' for no and press Enter\")\n",
        "  wordlist = eligible_words"
      ]
    },
    {
      "cell_type": "code",
      "execution_count": null,
      "metadata": {
        "colab": {
          "base_uri": "https://localhost:8080/"
        },
        "id": "qV5zkiL7KeBf",
        "outputId": "5d009aed-5e04-48eb-a63e-7b9fe016f40a"
      },
      "outputs": [
        {
          "name": "stdout",
          "output_type": "stream",
          "text": [
            "False\n"
          ]
        }
      ],
      "source": [
        "wordlist = [word.upper() for word in words.words() if word.isalpha() and len(word)==5]\n",
        "wordlist = list(set(wordlist))\n",
        "\n",
        "print('HEIST' in wordlist)"
      ]
    }
  ],
  "metadata": {
    "colab": {
      "name": "wordle_solver.ipynb",
      "provenance": []
    },
    "kernelspec": {
      "display_name": "Python 3",
      "name": "python3"
    },
    "language_info": {
      "name": "python"
    }
  },
  "nbformat": 4,
  "nbformat_minor": 0
}